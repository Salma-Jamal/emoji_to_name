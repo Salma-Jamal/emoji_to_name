{
  "nbformat": 4,
  "nbformat_minor": 0,
  "metadata": {
    "colab": {
      "name": "emoji_to_emojiName.ipynb",
      "provenance": [],
      "authorship_tag": "ABX9TyMEw/DcasmLBvrfKPSGAgKx"
    },
    "kernelspec": {
      "name": "python3",
      "display_name": "Python 3"
    },
    "language_info": {
      "name": "python"
    }
  },
  "cells": [
    {
      "cell_type": "code",
      "metadata": {
        "id": "1ao-2A-t1SN1"
      },
      "source": [
        "!pip install emosent-py\n",
        "!pip install emoji"
      ],
      "execution_count": null,
      "outputs": []
    },
    {
      "cell_type": "code",
      "metadata": {
        "id": "hePr7i4p1b1l"
      },
      "source": [
        "import emoji\n",
        "from emosent import get_emoji_sentiment_rank\n",
        "import re\n",
        "import pandas as pd"
      ],
      "execution_count": 4,
      "outputs": []
    },
    {
      "cell_type": "code",
      "metadata": {
        "colab": {
          "base_uri": "https://localhost:8080/",
          "height": 197
        },
        "id": "Zg72F8qP1gIq",
        "outputId": "fbe2e444-2d0a-4e5b-b6b1-d48704a76aa6"
      },
      "source": [
        "data = pd.read_csv('/content/data_emoji_2.csv')\n",
        "data.head()"
      ],
      "execution_count": 12,
      "outputs": [
        {
          "output_type": "execute_result",
          "data": {
            "text/html": [
              "<div>\n",
              "<style scoped>\n",
              "    .dataframe tbody tr th:only-of-type {\n",
              "        vertical-align: middle;\n",
              "    }\n",
              "\n",
              "    .dataframe tbody tr th {\n",
              "        vertical-align: top;\n",
              "    }\n",
              "\n",
              "    .dataframe thead th {\n",
              "        text-align: right;\n",
              "    }\n",
              "</style>\n",
              "<table border=\"1\" class=\"dataframe\">\n",
              "  <thead>\n",
              "    <tr style=\"text-align: right;\">\n",
              "      <th></th>\n",
              "      <th>text</th>\n",
              "    </tr>\n",
              "  </thead>\n",
              "  <tbody>\n",
              "    <tr>\n",
              "      <th>0</th>\n",
              "      <td>I will Cry 😢</td>\n",
              "    </tr>\n",
              "    <tr>\n",
              "      <th>1</th>\n",
              "      <td>I hate lying 😢</td>\n",
              "    </tr>\n",
              "    <tr>\n",
              "      <th>2</th>\n",
              "      <td>rest in peace 😢</td>\n",
              "    </tr>\n",
              "    <tr>\n",
              "      <th>3</th>\n",
              "      <td>do not go 😢</td>\n",
              "    </tr>\n",
              "    <tr>\n",
              "      <th>4</th>\n",
              "      <td>We will go shopping 😏</td>\n",
              "    </tr>\n",
              "  </tbody>\n",
              "</table>\n",
              "</div>"
            ],
            "text/plain": [
              "                    text\n",
              "0           I will Cry 😢\n",
              "1         I hate lying 😢\n",
              "2        rest in peace 😢\n",
              "3            do not go 😢\n",
              "4  We will go shopping 😏"
            ]
          },
          "metadata": {
            "tags": []
          },
          "execution_count": 12
        }
      ]
    },
    {
      "cell_type": "code",
      "metadata": {
        "id": "nlTvD5cl17mC"
      },
      "source": [
        "def replace_with(Found_Emoji):\n",
        "  Found_Emoji = Found_Emoji.group(0)\n",
        "  Found_Emoji = emoji.emojize(Found_Emoji)\n",
        "  try:\n",
        "    emoji_rank = get_emoji_sentiment_rank(Found_Emoji)\n",
        "    return \"[\"+emoji_rank['unicode_name']+\"]\"\n",
        "  except:\n",
        "    return Found_Emoji"
      ],
      "execution_count": 13,
      "outputs": []
    },
    {
      "cell_type": "code",
      "metadata": {
        "id": "FOeNL74K2Jjk"
      },
      "source": [
        "def replace(sentence):\n",
        "  sentence = emoji.demojize(sentence)\n",
        "  result = re.sub(r'(:[^:]*:)',replace_with, sentence)\n",
        "  return result"
      ],
      "execution_count": 14,
      "outputs": []
    },
    {
      "cell_type": "code",
      "metadata": {
        "id": "4SEgpFzD2Uzs"
      },
      "source": [
        "data.text = data.text.apply(replace)"
      ],
      "execution_count": 15,
      "outputs": []
    },
    {
      "cell_type": "code",
      "metadata": {
        "colab": {
          "base_uri": "https://localhost:8080/",
          "height": 377
        },
        "id": "OBjgTxDH4NAq",
        "outputId": "98649987-bb95-4802-c661-d46b6ec43ca1"
      },
      "source": [
        "data"
      ],
      "execution_count": 16,
      "outputs": [
        {
          "output_type": "execute_result",
          "data": {
            "text/html": [
              "<div>\n",
              "<style scoped>\n",
              "    .dataframe tbody tr th:only-of-type {\n",
              "        vertical-align: middle;\n",
              "    }\n",
              "\n",
              "    .dataframe tbody tr th {\n",
              "        vertical-align: top;\n",
              "    }\n",
              "\n",
              "    .dataframe thead th {\n",
              "        text-align: right;\n",
              "    }\n",
              "</style>\n",
              "<table border=\"1\" class=\"dataframe\">\n",
              "  <thead>\n",
              "    <tr style=\"text-align: right;\">\n",
              "      <th></th>\n",
              "      <th>text</th>\n",
              "    </tr>\n",
              "  </thead>\n",
              "  <tbody>\n",
              "    <tr>\n",
              "      <th>0</th>\n",
              "      <td>I will Cry [CRYING FACE]</td>\n",
              "    </tr>\n",
              "    <tr>\n",
              "      <th>1</th>\n",
              "      <td>I hate lying [CRYING FACE]</td>\n",
              "    </tr>\n",
              "    <tr>\n",
              "      <th>2</th>\n",
              "      <td>rest in peace [CRYING FACE]</td>\n",
              "    </tr>\n",
              "    <tr>\n",
              "      <th>3</th>\n",
              "      <td>do not go [CRYING FACE]</td>\n",
              "    </tr>\n",
              "    <tr>\n",
              "      <th>4</th>\n",
              "      <td>We will go shopping [SMIRKING FACE]</td>\n",
              "    </tr>\n",
              "    <tr>\n",
              "      <th>5</th>\n",
              "      <td>life is beautiful [SMIRKING FACE]</td>\n",
              "    </tr>\n",
              "    <tr>\n",
              "      <th>6</th>\n",
              "      <td>okay lets go [WINKING FACE]</td>\n",
              "    </tr>\n",
              "    <tr>\n",
              "      <th>7</th>\n",
              "      <td>I was kidding with you [SMILING FACE WITH OPEN...</td>\n",
              "    </tr>\n",
              "    <tr>\n",
              "      <th>8</th>\n",
              "      <td>I don not know why you are laughing [SMILING F...</td>\n",
              "    </tr>\n",
              "    <tr>\n",
              "      <th>9</th>\n",
              "      <td>I am sad [CRYING FACE]</td>\n",
              "    </tr>\n",
              "    <tr>\n",
              "      <th>10</th>\n",
              "      <td>hi I love life [SMIRKING FACE]</td>\n",
              "    </tr>\n",
              "  </tbody>\n",
              "</table>\n",
              "</div>"
            ],
            "text/plain": [
              "                                                 text\n",
              "0                            I will Cry [CRYING FACE]\n",
              "1                          I hate lying [CRYING FACE]\n",
              "2                         rest in peace [CRYING FACE]\n",
              "3                             do not go [CRYING FACE]\n",
              "4                 We will go shopping [SMIRKING FACE]\n",
              "5                   life is beautiful [SMIRKING FACE]\n",
              "6                         okay lets go [WINKING FACE]\n",
              "7   I was kidding with you [SMILING FACE WITH OPEN...\n",
              "8   I don not know why you are laughing [SMILING F...\n",
              "9                              I am sad [CRYING FACE]\n",
              "10                     hi I love life [SMIRKING FACE]"
            ]
          },
          "metadata": {
            "tags": []
          },
          "execution_count": 16
        }
      ]
    }
  ]
}